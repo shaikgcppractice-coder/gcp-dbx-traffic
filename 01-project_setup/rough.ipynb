{
 "cells": [
  {
   "cell_type": "code",
   "execution_count": 0,
   "metadata": {
    "application/vnd.databricks.v1+cell": {
     "cellMetadata": {
      "byteLimit": 2048000,
      "rowLimit": 10000
     },
     "inputWidgets": {},
     "nuid": "6e2f217d-3eb5-4a22-9457-8d007f7e273f",
     "showTitle": true,
     "tableResultSettingsMap": {},
     "title": "BRONZE"
    }
   },
   "outputs": [],
   "source": [
    "df_roads = spark.sql(\"select count(*) as road_count from dev_catalog.bronze.raw_roads\")\n",
    "print(df_roads.collect()[0]['road_count'])\n",
    "\n",
    "df_traffic = spark.sql(\"select count(*) as traffic_count from dev_catalog.bronze.raw_traffic\")\n",
    "print(df_traffic.collect()[0]['traffic_count'])"
   ]
  },
  {
   "cell_type": "code",
   "execution_count": 0,
   "metadata": {
    "application/vnd.databricks.v1+cell": {
     "cellMetadata": {
      "byteLimit": 2048000,
      "rowLimit": 10000
     },
     "inputWidgets": {},
     "nuid": "915ef203-8628-460b-a63e-e488bd5b1692",
     "showTitle": true,
     "tableResultSettingsMap": {},
     "title": "SILVER"
    }
   },
   "outputs": [],
   "source": [
    "df_roads = spark.sql(\"select count(*) as road_count from dev_catalog.silver.silver_roads\")\n",
    "print(df_roads.collect()[0]['road_count'])\n",
    "\n",
    "df_traffic = spark.sql(\"select count(*) as traffic_count from dev_catalog.silver.silver_traffic\")\n",
    "print(df_traffic.collect()[0]['traffic_count'])"
   ]
  },
  {
   "cell_type": "code",
   "execution_count": 0,
   "metadata": {
    "application/vnd.databricks.v1+cell": {
     "cellMetadata": {
      "byteLimit": 2048000,
      "rowLimit": 10000
     },
     "inputWidgets": {},
     "nuid": "906cae00-527f-41a6-a33e-a395bee4dd96",
     "showTitle": true,
     "tableResultSettingsMap": {},
     "title": "GOLD"
    }
   },
   "outputs": [],
   "source": [
    "df_roads = spark.sql(\"select count(*) as road_count from dev_catalog.gold.gold_roads\")\n",
    "print(df_roads.collect()[0]['road_count'])\n",
    "\n",
    "df_traffic = spark.sql(\"select count(*) as traffic_count from dev_catalog.gold.gold_traffic\")\n",
    "print(df_traffic.collect()[0]['traffic_count'])\n",
    "\n",
    "df_roads = spark.sql(\"select count(*) as road_count from dev_catalog.gold.traffic_summary\")\n",
    "print(df_roads.collect()[0]['road_count'])\n",
    "\n",
    "df_traffic = spark.sql(\"select count(*) as traffic_count from dev_catalog.gold.traffic_by_region\")\n",
    "print(df_traffic.collect()[0]['traffic_count'])\n",
    "\n",
    "df_roads = spark.sql(\"select count(*) as road_count from dev_catalog.gold.road_usage_statistics\")\n",
    "print(df_roads.collect()[0]['road_count'])\n",
    "\n",
    "df_traffic = spark.sql(\"select count(*) as traffic_count from dev_catalog.gold.ev_adoption_trend\")\n",
    "print(df_traffic.collect()[0]['traffic_count'])"
   ]
  }
 ],
 "metadata": {
  "application/vnd.databricks.v1+notebook": {
   "computePreferences": null,
   "dashboards": [],
   "environmentMetadata": {
    "base_environment": "",
    "environment_version": "3"
   },
   "inputWidgetPreferences": null,
   "language": "python",
   "notebookMetadata": {
    "pythonIndentUnit": 4
   },
   "notebookName": "rough",
   "widgets": {}
  },
  "language_info": {
   "name": "python"
  }
 },
 "nbformat": 4,
 "nbformat_minor": 0
}
