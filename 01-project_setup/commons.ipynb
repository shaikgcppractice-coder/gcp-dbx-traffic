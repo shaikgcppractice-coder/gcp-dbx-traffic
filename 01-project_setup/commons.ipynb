{
 "cells": [
  {
   "cell_type": "code",
   "execution_count": 0,
   "metadata": {
    "application/vnd.databricks.v1+cell": {
     "cellMetadata": {
      "byteLimit": 2048000,
      "rowLimit": 10000
     },
     "inputWidgets": {},
     "nuid": "607074f6-2ba6-44ec-84d1-adb7ad01dc55",
     "showTitle": false,
     "tableResultSettingsMap": {},
     "title": ""
    }
   },
   "outputs": [],
   "source": [
    "dbutils.widgets.text(name=\"env\",defaultValue='',label='Enter the environment in lower case')\n",
    "env = dbutils.widgets.get(\"env\")"
   ]
  },
  {
   "cell_type": "markdown",
   "metadata": {
    "application/vnd.databricks.v1+cell": {
     "cellMetadata": {},
     "inputWidgets": {},
     "nuid": "2b5d915b-80ca-46eb-b3a9-ef7e9935bd61",
     "showTitle": false,
     "tableResultSettingsMap": {},
     "title": ""
    }
   },
   "source": [
    "\n",
    "# To re-use common functions and variables\n"
   ]
  },
  {
   "cell_type": "markdown",
   "metadata": {
    "application/vnd.databricks.v1+cell": {
     "cellMetadata": {},
     "inputWidgets": {},
     "nuid": "90d48b33-9eb2-4599-b833-afaaf24cd3b9",
     "showTitle": false,
     "tableResultSettingsMap": {},
     "title": ""
    }
   },
   "source": [
    "# Defining all common variables\n"
   ]
  },
  {
   "cell_type": "code",
   "execution_count": 0,
   "metadata": {
    "application/vnd.databricks.v1+cell": {
     "cellMetadata": {
      "byteLimit": 2048000,
      "rowLimit": 10000
     },
     "inputWidgets": {},
     "nuid": "78c19999-a685-4b88-8583-0ef9e165f696",
     "showTitle": false,
     "tableResultSettingsMap": {},
     "title": ""
    }
   },
   "outputs": [],
   "source": [
    "checkpoint = spark.sql(f\"describe external location `checkpoints_{env}`\").select(\"url\").collect()[0][0]\n",
    "landing = spark.sql(f\"describe external location `landing_{env}`\").select(\"url\").collect()[0][0]\n",
    "bronze = spark.sql(f\"describe external location `bronze_{env}`\").select(\"url\").collect()[0][0]\n",
    "silver = spark.sql(f\"describe external location `silver_{env}`\").select(\"url\").collect()[0][0]\n",
    "gold = spark.sql(f\"describe external location `gold_{env}`\").select(\"url\").collect()[0][0]\n",
    "\n",
    "print(f\"checkpoint: {checkpoint}\")\n",
    "print(f\"landing: {landing}\")\n",
    "print(f\"bronze: {bronze}\")\n",
    "print(f\"silver: {silver}\")\n",
    "print(f\"gold: {gold}\")"
   ]
  },
  {
   "cell_type": "markdown",
   "metadata": {
    "application/vnd.databricks.v1+cell": {
     "cellMetadata": {},
     "inputWidgets": {},
     "nuid": "3fccf90e-f1ea-4c8b-a8d8-55f884dc3b6f",
     "showTitle": false,
     "tableResultSettingsMap": {},
     "title": ""
    }
   },
   "source": [
    "\n",
    "### 01 -- Removing duplicates"
   ]
  },
  {
   "cell_type": "code",
   "execution_count": 0,
   "metadata": {
    "application/vnd.databricks.v1+cell": {
     "cellMetadata": {},
     "inputWidgets": {},
     "nuid": "0311a93c-c445-475b-b32d-7e02ae1b2c08",
     "showTitle": false,
     "tableResultSettingsMap": {},
     "title": ""
    }
   },
   "outputs": [],
   "source": [
    "def remove_Dups(df):\n",
    "    print('Removing Duplicate values: ',end='')\n",
    "    df_dup = df.dropDuplicates()\n",
    "    print('Success!')\n",
    "    return df_dup"
   ]
  },
  {
   "cell_type": "markdown",
   "metadata": {
    "application/vnd.databricks.v1+cell": {
     "cellMetadata": {},
     "inputWidgets": {},
     "nuid": "b9bd91e3-910c-4b3e-a5b2-bf0e0dfa949c",
     "showTitle": false,
     "tableResultSettingsMap": {},
     "title": ""
    }
   },
   "source": [
    "\n",
    "### 01 -- Handling NULLs"
   ]
  },
  {
   "cell_type": "code",
   "execution_count": 0,
   "metadata": {
    "application/vnd.databricks.v1+cell": {
     "cellMetadata": {},
     "inputWidgets": {},
     "nuid": "02c31e44-db0a-4afe-94e9-bfc68b4b53fe",
     "showTitle": false,
     "tableResultSettingsMap": {},
     "title": ""
    }
   },
   "outputs": [],
   "source": [
    "def handle_NULLs(df,Columns):\n",
    "    print('Replacing NULLs of Strings DataType with \"Unknown\": ', end='')\n",
    "    df_string = df.fillna('Unknown',subset=Columns)\n",
    "    print('Success!')\n",
    "    print('Replacing NULLs of Numeric DataType with \"0\":  ', end='')\n",
    "    df_numeric = df_string.fillna(0,subset=Columns)\n",
    "    print('Success!')\n",
    "    return df_numeric"
   ]
  }
 ],
 "metadata": {
  "application/vnd.databricks.v1+notebook": {
   "computePreferences": null,
   "dashboards": [],
   "environmentMetadata": {
    "base_environment": "",
    "environment_version": "3"
   },
   "inputWidgetPreferences": null,
   "language": "python",
   "notebookMetadata": {
    "pythonIndentUnit": 4
   },
   "notebookName": "commons",
   "widgets": {
    "env": {
     "currentValue": "dev",
     "nuid": "2258f1d9-684f-40a4-91aa-2cad759dbdd2",
     "typedWidgetInfo": {
      "autoCreated": false,
      "defaultValue": "",
      "label": "Enter the environment in lower case",
      "name": "env",
      "options": {
       "widgetDisplayType": "Text",
       "validationRegex": null
      },
      "parameterDataType": "String"
     },
     "widgetInfo": {
      "widgetType": "text",
      "defaultValue": "",
      "label": "Enter the environment in lower case",
      "name": "env",
      "options": {
       "widgetType": "text",
       "autoCreated": null,
       "validationRegex": null
      }
     }
    }
   }
  },
  "language_info": {
   "name": "python"
  }
 },
 "nbformat": 4,
 "nbformat_minor": 0
}
