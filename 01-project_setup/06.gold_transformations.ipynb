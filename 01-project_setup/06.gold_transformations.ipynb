{
 "cells": [
  {
   "cell_type": "code",
   "execution_count": 0,
   "metadata": {
    "application/vnd.databricks.v1+cell": {
     "cellMetadata": {
      "byteLimit": 2048000,
      "rowLimit": 10000
     },
     "inputWidgets": {},
     "nuid": "e6625dcd-91e6-4f79-97ca-c65474958916",
     "showTitle": false,
     "tableResultSettingsMap": {},
     "title": ""
    }
   },
   "outputs": [],
   "source": [
    "dbutils.widgets.text(name=\"env\",defaultValue='',label='Enter the environment in lower case')\n",
    "env = dbutils.widgets.get(\"env\")"
   ]
  },
  {
   "cell_type": "code",
   "execution_count": 0,
   "metadata": {
    "application/vnd.databricks.v1+cell": {
     "cellMetadata": {
      "byteLimit": 2048000,
      "rowLimit": 10000
     },
     "inputWidgets": {},
     "nuid": "211ff152-23a6-454b-92e9-714ac98d7d9a",
     "showTitle": false,
     "tableResultSettingsMap": {},
     "title": ""
    }
   },
   "outputs": [],
   "source": [
    "%run \"./commons\""
   ]
  },
  {
   "cell_type": "markdown",
   "metadata": {
    "application/vnd.databricks.v1+cell": {
     "cellMetadata": {
      "byteLimit": 2048000,
      "rowLimit": 10000
     },
     "inputWidgets": {},
     "nuid": "1a6e4c8c-59ab-4cb0-b9e4-a6b1d54ce26a",
     "showTitle": false,
     "tableResultSettingsMap": {},
     "title": ""
    }
   },
   "source": [
    "\n",
    "### Read Silver_Traffic table"
   ]
  },
  {
   "cell_type": "code",
   "execution_count": 0,
   "metadata": {
    "application/vnd.databricks.v1+cell": {
     "cellMetadata": {
      "byteLimit": 2048000,
      "rowLimit": 10000
     },
     "inputWidgets": {},
     "nuid": "f4076def-cc89-4d32-b5e6-2f4a6879c202",
     "showTitle": false,
     "tableResultSettingsMap": {},
     "title": ""
    }
   },
   "outputs": [],
   "source": [
    "\n",
    "def read_SilverTrafficTable(environment):\n",
    "    print('Reading the Silver Traffic Table Data : ',end='')\n",
    "    df_SilverTraffic = (spark.readStream.table(f\"`{environment}_catalog`.`silver`.silver_traffic\"))\n",
    "    print(f'Reading {environment}_catalog.silver.silver_traffic Success!')\n",
    "    print(\"**********************************\")\n",
    "    return df_SilverTraffic"
   ]
  },
  {
   "cell_type": "markdown",
   "metadata": {
    "application/vnd.databricks.v1+cell": {
     "cellMetadata": {
      "byteLimit": 2048000,
      "rowLimit": 10000
     },
     "inputWidgets": {},
     "nuid": "ec87655f-a457-4676-ad0a-8aaa8141b2e1",
     "showTitle": false,
     "tableResultSettingsMap": {},
     "title": ""
    }
   },
   "source": [
    "\n",
    "### Read silver_roads Table"
   ]
  },
  {
   "cell_type": "code",
   "execution_count": 0,
   "metadata": {
    "application/vnd.databricks.v1+cell": {
     "cellMetadata": {
      "byteLimit": 2048000,
      "rowLimit": 10000
     },
     "inputWidgets": {},
     "nuid": "eb025f53-def0-4108-a905-101851559527",
     "showTitle": false,
     "tableResultSettingsMap": {},
     "title": ""
    }
   },
   "outputs": [],
   "source": [
    "\n",
    "def read_SilverRoadsTable(environment):\n",
    "    print('Reading the Silver Table Silver_roads Data : ',end='')\n",
    "    df_SilverRoads = (spark.readStream.table(f\"`{environment}_catalog`.`silver`.silver_roads\"))\n",
    "    print(f'Reading {environment}_catalog.silver.silver_roads Success!')\n",
    "    print(\"**********************************\")\n",
    "    return df_SilverRoads"
   ]
  },
  {
   "cell_type": "markdown",
   "metadata": {
    "application/vnd.databricks.v1+cell": {
     "cellMetadata": {
      "byteLimit": 2048000,
      "rowLimit": 10000
     },
     "inputWidgets": {},
     "nuid": "ee862f5c-91a1-4223-93d3-967332266abc",
     "showTitle": false,
     "tableResultSettingsMap": {},
     "title": ""
    }
   },
   "source": [
    "\n",
    "## Creating vehicle Intensity Column"
   ]
  },
  {
   "cell_type": "code",
   "execution_count": 0,
   "metadata": {
    "application/vnd.databricks.v1+cell": {
     "cellMetadata": {
      "byteLimit": 2048000,
      "rowLimit": 10000
     },
     "inputWidgets": {},
     "nuid": "c0723920-85e4-42e8-b26c-5d24efedeed1",
     "showTitle": false,
     "tableResultSettingsMap": {},
     "title": ""
    }
   },
   "outputs": [],
   "source": [
    "def create_VehicleIntensity(df):\n",
    "    from pyspark.sql.functions import col\n",
    "    print('Creating Vehicle Intensity column : ',end='')\n",
    "    df_veh = df.withColumn('Vehicle_Intensity',\n",
    "                col('Motor_Vehicles_Count') / col('Link_length_km')\n",
    "                )\n",
    "    print(\"Success!!!\")\n",
    "    print('***************')\n",
    "    return df_veh"
   ]
  },
  {
   "cell_type": "markdown",
   "metadata": {
    "application/vnd.databricks.v1+cell": {
     "cellMetadata": {
      "byteLimit": 2048000,
      "rowLimit": 10000
     },
     "inputWidgets": {},
     "nuid": "9443318a-f645-469a-bf85-37cf1d8c7b15",
     "showTitle": false,
     "tableResultSettingsMap": {},
     "title": ""
    }
   },
   "source": [
    "### Creating LoadTime column"
   ]
  },
  {
   "cell_type": "code",
   "execution_count": 0,
   "metadata": {
    "application/vnd.databricks.v1+cell": {
     "cellMetadata": {
      "byteLimit": 2048000,
      "rowLimit": 10000
     },
     "inputWidgets": {},
     "nuid": "09950797-e552-43c7-b095-e8d33cd6531f",
     "showTitle": false,
     "tableResultSettingsMap": {},
     "title": ""
    }
   },
   "outputs": [],
   "source": [
    "def create_LoadTime(df):\n",
    "    from pyspark.sql.functions import current_timestamp\n",
    "    print('Creating Load Time column : ',end='')\n",
    "    df_timestamp = df.withColumn('Load_Time', current_timestamp())\n",
    "    print('Success!!')\n",
    "    print('**************')\n",
    "    return df_timestamp"
   ]
  },
  {
   "cell_type": "markdown",
   "metadata": {
    "application/vnd.databricks.v1+cell": {
     "cellMetadata": {
      "byteLimit": 2048000,
      "rowLimit": 10000
     },
     "inputWidgets": {},
     "nuid": "7581cd1b-cedd-4528-8604-96a77827e291",
     "showTitle": false,
     "tableResultSettingsMap": {},
     "title": ""
    }
   },
   "source": [
    "\n",
    "### Writing Data to Gold Traffic\n"
   ]
  },
  {
   "cell_type": "code",
   "execution_count": 0,
   "metadata": {
    "application/vnd.databricks.v1+cell": {
     "cellMetadata": {
      "byteLimit": 2048000,
      "rowLimit": 10000
     },
     "inputWidgets": {},
     "nuid": "1b202c85-2624-4af1-931d-691dacda157f",
     "showTitle": false,
     "tableResultSettingsMap": {},
     "title": ""
    }
   },
   "outputs": [],
   "source": [
    "def write_Traffic_GoldTable(StreamingDF,environment):\n",
    "    print('Writing the gold_traffic Data : ',end='') \n",
    "\n",
    "    write_gold_traffic = (StreamingDF.writeStream\n",
    "                .format('delta')\n",
    "                .option('checkpointLocation',checkpoint+ \"/GoldTrafficLoad/Checkpt/\")\n",
    "                .outputMode('append')\n",
    "                .queryName(\"GoldTrafficWriteStream\")\n",
    "                .trigger(availableNow=True)\n",
    "                .toTable(f\"`{environment}_catalog`.`gold`.`gold_traffic`\"))\n",
    "    \n",
    "    write_gold_traffic.awaitTermination()\n",
    "    print(f'Writing `{environment}_catalog`.`gold`.`gold_traffic` Success!')"
   ]
  },
  {
   "cell_type": "markdown",
   "metadata": {
    "application/vnd.databricks.v1+cell": {
     "cellMetadata": {
      "byteLimit": 2048000,
      "rowLimit": 10000
     },
     "inputWidgets": {},
     "nuid": "0f3d9c03-7d40-4f8d-adc1-ae9eb7d61bce",
     "showTitle": false,
     "tableResultSettingsMap": {},
     "title": ""
    }
   },
   "source": [
    "\n",
    "### Writing Data to Gold Roads\n"
   ]
  },
  {
   "cell_type": "code",
   "execution_count": 0,
   "metadata": {
    "application/vnd.databricks.v1+cell": {
     "cellMetadata": {
      "byteLimit": 2048000,
      "rowLimit": 10000
     },
     "inputWidgets": {},
     "nuid": "425b990a-77ca-4b93-b9bb-f2580327d489",
     "showTitle": false,
     "tableResultSettingsMap": {},
     "title": ""
    }
   },
   "outputs": [],
   "source": [
    "def write_Roads_GoldTable(StreamingDF,environment):\n",
    "    print('Writing the gold_roads Data : ',end='') \n",
    "\n",
    "    write_gold_roads = (StreamingDF.writeStream\n",
    "                .format('delta')\n",
    "                .option('checkpointLocation',checkpoint+ \"/GoldRoadsLoad/Checkpt/\")\n",
    "                .outputMode('append')\n",
    "                .queryName(\"GoldRoadsWriteStream\")\n",
    "                .trigger(availableNow=True)\n",
    "                .toTable(f\"`{environment}_catalog`.`gold`.`gold_roads`\"))\n",
    "    \n",
    "    write_gold_roads.awaitTermination()\n",
    "    print(f'Writing `{environment}_catalog`.`gold`.`gold_roads` Success!')"
   ]
  },
  {
   "cell_type": "markdown",
   "metadata": {
    "application/vnd.databricks.v1+cell": {
     "cellMetadata": {
      "byteLimit": 2048000,
      "rowLimit": 10000
     },
     "inputWidgets": {},
     "nuid": "f29c3c24-dc92-4c95-93d6-6695b7e014f3",
     "showTitle": false,
     "tableResultSettingsMap": {},
     "title": ""
    }
   },
   "source": [
    "\n",
    "## Calling all functions\n"
   ]
  },
  {
   "cell_type": "code",
   "execution_count": 0,
   "metadata": {
    "application/vnd.databricks.v1+cell": {
     "cellMetadata": {
      "byteLimit": 2048000,
      "rowLimit": 10000
     },
     "inputWidgets": {},
     "nuid": "aea4fe7c-6353-4740-8044-d82f8c18870c",
     "showTitle": false,
     "tableResultSettingsMap": {},
     "title": ""
    }
   },
   "outputs": [],
   "source": [
    "## Reading from Silver tables\n",
    "df_SilverTraffic = read_SilverTrafficTable(env)\n",
    "df_SilverRoads = read_SilverRoadsTable(env)\n",
    "    \n",
    "## Tranformations     \n",
    "df_vehicle = create_VehicleIntensity(df_SilverTraffic)\n",
    "df_FinalTraffic = create_LoadTime(df_vehicle)\n",
    "df_FinalRoads = create_LoadTime(df_SilverRoads)\n",
    "\n",
    "## Writing to gold tables    \n",
    "write_Traffic_GoldTable(df_FinalTraffic,env)\n",
    "write_Roads_GoldTable(df_FinalRoads,env)"
   ]
  },
  {
   "cell_type": "markdown",
   "metadata": {
    "application/vnd.databricks.v1+cell": {
     "cellMetadata": {
      "byteLimit": 2048000,
      "rowLimit": 10000
     },
     "inputWidgets": {},
     "nuid": "56430bdb-e7e9-4580-a623-a455bffda4e5",
     "showTitle": false,
     "tableResultSettingsMap": {},
     "title": ""
    }
   },
   "source": [
    "## 1. Traffic Volume by year wise"
   ]
  },
  {
   "cell_type": "code",
   "execution_count": 0,
   "metadata": {
    "application/vnd.databricks.v1+cell": {
     "cellMetadata": {
      "byteLimit": 2048000,
      "rowLimit": 10000
     },
     "inputWidgets": {},
     "nuid": "04f9bc23-527c-40d3-8efa-58ba6ec5cac5",
     "showTitle": false,
     "tableResultSettingsMap": {},
     "title": ""
    }
   },
   "outputs": [],
   "source": [
    "def summarize_traffic_volume(df):\n",
    "    from pyspark.sql.functions import sum as _sum, col, year, month\n",
    "    df_traffic_summary = (df\n",
    "                            .groupBy(\"year\")\n",
    "                            .agg(\n",
    "                                _sum(\n",
    "                                    col(\"cars_and_taxis\")\n",
    "                                    + col(\"buses_and_coaches\")\n",
    "                                    + col(\"lgv_type\")\n",
    "                                    + col(\"hgv_type\")\n",
    "                                    + col(\"two_wheeled_motor_vehicles\")\n",
    "                                    + col(\"pedal_cycles\")\n",
    "                                    + col(\"ev_car\")\n",
    "                                    + col(\"ev_bike\")\n",
    "                                ).alias(\"total_vehicles\"),\n",
    "                                _sum(\"cars_and_taxis\").alias(\"total_cars\"),\n",
    "                                _sum(\"ev_car\").alias(\"total_ev_cars\")\n",
    "                            )\n",
    "                        )\n",
    "    return df_traffic_summary"
   ]
  },
  {
   "cell_type": "code",
   "execution_count": 0,
   "metadata": {
    "application/vnd.databricks.v1+cell": {
     "cellMetadata": {
      "byteLimit": 2048000,
      "rowLimit": 10000
     },
     "inputWidgets": {},
     "nuid": "11461193-cf0d-4912-b6d7-ae3772a0757f",
     "showTitle": false,
     "tableResultSettingsMap": {},
     "title": ""
    }
   },
   "outputs": [],
   "source": [
    "def write_traffic_summary_GoldTable(StreamingDF,environment):\n",
    "    print('Writing the gold_traffic_summary Data : ',end='') \n",
    "\n",
    "    write_gold_traffic = (StreamingDF.writeStream\n",
    "                .format('delta')\n",
    "                .option('checkpointLocation',checkpoint+ \"/GoldTraffic_summary/Checkpt/\")\n",
    "                .outputMode('complete')\n",
    "                .queryName(\"GoldTrafficWriteStream\")\n",
    "                .trigger(availableNow=True)\n",
    "                .toTable(f\"`{environment}_catalog`.`gold`.`traffic_summary`\"))\n",
    "    \n",
    "    write_gold_traffic.awaitTermination()\n",
    "    print(f'Writing `{environment}_catalog`.`gold`.`traffic_summary` Success!')"
   ]
  },
  {
   "cell_type": "markdown",
   "metadata": {
    "application/vnd.databricks.v1+cell": {
     "cellMetadata": {
      "byteLimit": 2048000,
      "rowLimit": 10000
     },
     "inputWidgets": {},
     "nuid": "a1af3eb8-7b0b-4cad-bf2b-259ff8be21a1",
     "showTitle": false,
     "tableResultSettingsMap": {},
     "title": ""
    }
   },
   "source": [
    "## 2. Traffic by Region / Local Authority"
   ]
  },
  {
   "cell_type": "code",
   "execution_count": 0,
   "metadata": {
    "application/vnd.databricks.v1+cell": {
     "cellMetadata": {
      "byteLimit": 2048000,
      "rowLimit": 10000
     },
     "inputWidgets": {},
     "nuid": "c4343c1f-de39-4894-b5cf-3c2024f5dc06",
     "showTitle": false,
     "tableResultSettingsMap": {},
     "title": ""
    }
   },
   "outputs": [],
   "source": [
    "def summarize_traffic_by_region(df):\n",
    "    from pyspark.sql.functions import sum as _sum, col\n",
    "\n",
    "    df_region_summary = (df\n",
    "                            .groupBy(\"region_id\", \"region_name\", \"local_authority_name\")\n",
    "                            .agg(\n",
    "                                _sum(\"cars_and_taxis\").alias(\"cars\"),\n",
    "                                _sum(\"lgv_type\").alias(\"lgv\"),\n",
    "                                _sum(\"hgv_type\").alias(\"hgv\"),\n",
    "                                _sum(\"ev_car\").alias(\"ev_cars\"),\n",
    "                                _sum(\"pedal_cycles\").alias(\"cycles\"),\n",
    "                                _sum(\"buses_and_coaches\").alias(\"buses\"),\n",
    "                                _sum(\n",
    "                                    col(\"cars_and_taxis\") \n",
    "                                    + col(\"lgv_type\") \n",
    "                                    + col(\"hgv_type\") \n",
    "                                    + col(\"ev_car\") \n",
    "                                    + col(\"buses_and_coaches\") \n",
    "                                    + col(\"pedal_cycles\") \n",
    "                                    + col(\"two_wheeled_motor_vehicles\") \n",
    "                                    + col(\"ev_bike\")\n",
    "                                ).alias(\"total_traffic\")\n",
    "                            )\n",
    "                        )\n",
    "    return df_region_summary"
   ]
  },
  {
   "cell_type": "code",
   "execution_count": 0,
   "metadata": {
    "application/vnd.databricks.v1+cell": {
     "cellMetadata": {
      "byteLimit": 2048000,
      "rowLimit": 10000
     },
     "inputWidgets": {},
     "nuid": "80d466ab-b0be-4113-8b51-735da77b90eb",
     "showTitle": false,
     "tableResultSettingsMap": {},
     "title": ""
    }
   },
   "outputs": [],
   "source": [
    "def write_traffic_region_GoldTable(StreamingDF, environment):\n",
    "    print('Writing the gold_traffic_by_region Data : ', end='') \n",
    "\n",
    "    write_gold_region = (\n",
    "        StreamingDF.writeStream\n",
    "        .format('delta')\n",
    "        .option('checkpointLocation', checkpoint + \"/GoldTraffic_region/Checkpt/\")\n",
    "        .outputMode('complete')\n",
    "        .queryName(\"GoldTrafficRegionWriteStream\")\n",
    "        .trigger(availableNow=True)\n",
    "        .toTable(f\"`{environment}_catalog`.`gold`.`traffic_by_region`\")\n",
    "    )\n",
    "    \n",
    "    write_gold_region.awaitTermination()\n",
    "    print(f'Writing `{environment}_catalog`.`gold`.`traffic_by_region` Success!')"
   ]
  },
  {
   "cell_type": "markdown",
   "metadata": {
    "application/vnd.databricks.v1+cell": {
     "cellMetadata": {
      "byteLimit": 2048000,
      "rowLimit": 10000
     },
     "inputWidgets": {},
     "nuid": "2ccd5990-1545-479d-8a83-79f5955e4a07",
     "showTitle": false,
     "tableResultSettingsMap": {},
     "title": ""
    }
   },
   "source": [
    "## 3. Road Usage Statistics"
   ]
  },
  {
   "cell_type": "code",
   "execution_count": 0,
   "metadata": {
    "application/vnd.databricks.v1+cell": {
     "cellMetadata": {
      "byteLimit": 2048000,
      "rowLimit": 10000
     },
     "inputWidgets": {},
     "nuid": "57a1a651-8e0b-414a-9055-81a8f2c89e60",
     "showTitle": false,
     "tableResultSettingsMap": {},
     "title": ""
    }
   },
   "outputs": [],
   "source": [
    "def summarize_road_usage(df):\n",
    "    from pyspark.sql.functions import sum as _sum, col\n",
    "\n",
    "    df_road_summary = (\n",
    "        df\n",
    "        .groupBy(\"road_name\", \"road_category_id\")\n",
    "        .agg(\n",
    "            _sum(\n",
    "                col(\"cars_and_taxis\") \n",
    "                + col(\"lgv_type\") \n",
    "                + col(\"hgv_type\") \n",
    "                + col(\"buses_and_coaches\")\n",
    "                + col(\"two_wheeled_motor_vehicles\")\n",
    "                + col(\"ev_car\") \n",
    "                + col(\"ev_bike\")\n",
    "            ).alias(\"total_motor_vehicles\"),\n",
    "            _sum(\"pedal_cycles\").alias(\"total_cycles\"),\n",
    "            _sum(\n",
    "                col(\"cars_and_taxis\") \n",
    "                + col(\"lgv_type\") \n",
    "                + col(\"hgv_type\") \n",
    "                + col(\"buses_and_coaches\")\n",
    "                + col(\"two_wheeled_motor_vehicles\")\n",
    "                + col(\"ev_car\") \n",
    "                + col(\"ev_bike\")\n",
    "                + col(\"pedal_cycles\")\n",
    "            ).alias(\"total_traffic\")\n",
    "        )\n",
    "    )\n",
    "    return df_road_summary"
   ]
  },
  {
   "cell_type": "code",
   "execution_count": 0,
   "metadata": {
    "application/vnd.databricks.v1+cell": {
     "cellMetadata": {
      "byteLimit": 2048000,
      "rowLimit": 10000
     },
     "inputWidgets": {},
     "nuid": "fb340f51-a58b-4a59-8ab7-303c4538f429",
     "showTitle": false,
     "tableResultSettingsMap": {},
     "title": ""
    }
   },
   "outputs": [],
   "source": [
    "def write_road_usage_GoldTable(StreamingDF, environment):\n",
    "    print('Writing the gold_road_usage Data : ', end='') \n",
    "\n",
    "    write_gold_road = (\n",
    "        StreamingDF.writeStream\n",
    "        .format('delta')\n",
    "        .option('checkpointLocation', checkpoint + \"/GoldRoad_usage/Checkpt/\")\n",
    "        .outputMode('complete')\n",
    "        .queryName(\"GoldRoadUsageWriteStream\")\n",
    "        .trigger(availableNow=True)\n",
    "        .toTable(f\"`{environment}_catalog`.`gold`.`road_usage_statistics`\")\n",
    "    )\n",
    "    \n",
    "    write_gold_road.awaitTermination()\n",
    "    print(f'Writing `{environment}_catalog`.`gold`.`road_usage_statistics` Success!')"
   ]
  },
  {
   "cell_type": "markdown",
   "metadata": {
    "application/vnd.databricks.v1+cell": {
     "cellMetadata": {
      "byteLimit": 2048000,
      "rowLimit": 10000
     },
     "inputWidgets": {},
     "nuid": "56772ec9-4bf9-4b18-a214-a36b1cf78580",
     "showTitle": false,
     "tableResultSettingsMap": {},
     "title": ""
    }
   },
   "source": [
    "## 4. EV Adoption Trend"
   ]
  },
  {
   "cell_type": "code",
   "execution_count": 0,
   "metadata": {
    "application/vnd.databricks.v1+cell": {
     "cellMetadata": {
      "byteLimit": 2048000,
      "rowLimit": 10000
     },
     "inputWidgets": {},
     "nuid": "d3df7cb4-40fe-4fea-9f56-a495b6d581c2",
     "showTitle": false,
     "tableResultSettingsMap": {},
     "title": ""
    }
   },
   "outputs": [],
   "source": [
    "def summarize_ev_adoption(df):\n",
    "    from pyspark.sql.functions import sum as _sum, col\n",
    "\n",
    "    df_ev_summary = (\n",
    "        df\n",
    "        .groupBy(\"year\")\n",
    "        .agg(\n",
    "            _sum(\"ev_car\").alias(\"total_ev_cars\"),\n",
    "            _sum(\"ev_bike\").alias(\"total_ev_bikes\"),\n",
    "            _sum(col(\"ev_car\") + col(\"ev_bike\")).alias(\"total_ev\")\n",
    "        )\n",
    "        .orderBy(\"year\")\n",
    "    )\n",
    "    return df_ev_summary"
   ]
  },
  {
   "cell_type": "code",
   "execution_count": 0,
   "metadata": {
    "application/vnd.databricks.v1+cell": {
     "cellMetadata": {
      "byteLimit": 2048000,
      "rowLimit": 10000
     },
     "inputWidgets": {},
     "nuid": "a4a2c0d5-5df1-4ccf-8f99-0831320520e7",
     "showTitle": false,
     "tableResultSettingsMap": {},
     "title": ""
    }
   },
   "outputs": [],
   "source": [
    "def write_ev_adoption_GoldTable(StreamingDF, environment):\n",
    "    print('Writing the gold_ev_adoption Data : ', end='') \n",
    "\n",
    "    write_gold_ev = (\n",
    "        StreamingDF.writeStream\n",
    "        .format('delta')\n",
    "        .option('checkpointLocation', checkpoint + \"/GoldEV_adoption/Checkpt/\")\n",
    "        .outputMode('complete')\n",
    "        .queryName(\"GoldEVAdoptionWriteStream\")\n",
    "        .trigger(availableNow=True)\n",
    "        .toTable(f\"`{environment}_catalog`.`gold`.`ev_adoption_trend`\")\n",
    "    )\n",
    "    \n",
    "    write_gold_ev.awaitTermination()\n",
    "    print(f'Writing `{environment}_catalog`.`gold`.`ev_adoption_trend` Success!')"
   ]
  },
  {
   "cell_type": "markdown",
   "metadata": {
    "application/vnd.databricks.v1+cell": {
     "cellMetadata": {
      "byteLimit": 2048000,
      "rowLimit": 10000
     },
     "inputWidgets": {},
     "nuid": "d49c17ea-a07a-4b69-87af-cdb933085dc3",
     "showTitle": false,
     "tableResultSettingsMap": {},
     "title": ""
    }
   },
   "source": [
    "\n",
    "### Calling functions"
   ]
  },
  {
   "cell_type": "code",
   "execution_count": 0,
   "metadata": {
    "application/vnd.databricks.v1+cell": {
     "cellMetadata": {
      "byteLimit": 2048000,
      "rowLimit": 10000
     },
     "inputWidgets": {},
     "nuid": "529fcc2f-135e-47e3-90d2-98ebcd3be6b0",
     "showTitle": false,
     "tableResultSettingsMap": {},
     "title": ""
    }
   },
   "outputs": [],
   "source": [
    "## Reading from Silver tables\n",
    "df_SilverTraffic = read_SilverTrafficTable(env)\n",
    "df_SilverRoads = read_SilverRoadsTable(env)\n",
    "\n",
    "# summarize_traffic_volume\n",
    "df_traffic_summary = summarize_traffic_volume(df_SilverTraffic)\n",
    "write_traffic_summary_GoldTable(df_traffic_summary,env)\n",
    "\n",
    "# summarize_traffic_by_region\n",
    "df_region_summary = summarize_traffic_by_region(df_SilverTraffic)\n",
    "write_traffic_region_GoldTable(df_region_summary, env)\n",
    "\n",
    "# summarize_road_usage\n",
    "df_road_summary = summarize_road_usage(df_SilverTraffic)\n",
    "write_road_usage_GoldTable(df_road_summary, env)\n",
    "\n",
    "# summarize_ev_adoption\n",
    "df_ev_summary = summarize_ev_adoption(df_SilverTraffic)\n",
    "write_ev_adoption_GoldTable(df_ev_summary, env)"
   ]
  }
 ],
 "metadata": {
  "application/vnd.databricks.v1+notebook": {
   "computePreferences": null,
   "dashboards": [],
   "environmentMetadata": {
    "base_environment": "",
    "environment_version": "3"
   },
   "inputWidgetPreferences": null,
   "language": "python",
   "notebookMetadata": {
    "pythonIndentUnit": 4
   },
   "notebookName": "06.gold_transformations",
   "widgets": {
    "env": {
     "currentValue": "dev",
     "nuid": "6cd50af7-2770-4ee0-9f84-fc3a2a0879c6",
     "typedWidgetInfo": {
      "autoCreated": false,
      "defaultValue": "",
      "label": "Enter the environment in lower case",
      "name": "env",
      "options": {
       "widgetDisplayType": "Text",
       "validationRegex": null
      },
      "parameterDataType": "String"
     },
     "widgetInfo": {
      "widgetType": "text",
      "defaultValue": "",
      "label": "Enter the environment in lower case",
      "name": "env",
      "options": {
       "widgetType": "text",
       "autoCreated": null,
       "validationRegex": null
      }
     }
    }
   }
  },
  "language_info": {
   "name": "python"
  }
 },
 "nbformat": 4,
 "nbformat_minor": 0
}
